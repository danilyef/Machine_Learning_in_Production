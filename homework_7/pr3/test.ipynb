{
 "cells": [
  {
   "cell_type": "code",
   "execution_count": 15,
   "metadata": {},
   "outputs": [
    {
     "name": "stdout",
     "output_type": "stream",
     "text": [
      "Model state dictionary saved successfully.\n",
      "Test Accuracy: 0.0969\n"
     ]
    }
   ],
   "source": [
    "import torch\n",
    "import torchvision\n",
    "\n",
    "\n",
    "MnistDataset = torchvision.datasets.MNIST(root='./data', train=False, download=True, transform=torchvision.transforms.ToTensor())\n",
    "\n",
    "\n",
    "# Define the model class (incomplete in the original code)\n",
    "class Model(torch.nn.Module):\n",
    "    def __init__(self):\n",
    "        super().__init__()\n",
    "        # Add your model layers here\n",
    "        # For example:\n",
    "        self.conv1 = torch.nn.Conv2d(1, 32, 3)\n",
    "        self.fc1 = torch.nn.Linear(32 * 26 * 26, 10)\n",
    "\n",
    "    def forward(self, x):\n",
    "        # Define the forward pass\n",
    "        # For example:\n",
    "        x = self.conv1(x)\n",
    "        x = x.view(x.size(0), -1)\n",
    "        x = self.fc1(x)\n",
    "        return x\n",
    "    \n",
    "model = Model()\n",
    "\n",
    "torch.save(model, 'model.pth')\n",
    "print(\"Model state dictionary saved successfully.\")\n",
    "\n",
    "\n",
    "#model_weights = torch.load('model.pth')\n",
    "\n",
    "model = torch.load('model.pth')\n",
    "model.eval()\n",
    "\n",
    "total_correct = 0\n",
    "total_samples = 0\n",
    "\n",
    "test_loader = torch.utils.data.DataLoader(MnistDataset, batch_size=64, shuffle=True)\n",
    "\n",
    "with torch.no_grad():  # Disable gradient computation\n",
    "    for batch_idx, (inputs, targets) in enumerate(test_loader):\n",
    "        if batch_idx == 5:\n",
    "            break\n",
    "        outputs = model(inputs)\n",
    "        _, predicted = torch.max(outputs, 1)\n",
    "        total_samples += targets.size(0)\n",
    "        total_correct += (predicted == targets).sum().item()\n",
    "\n",
    "accuracy = total_correct / total_samples\n",
    "print(f\"Test Accuracy: {accuracy:.4f}\")\n",
    "\n",
    "\n",
    "\n"
   ]
  }
 ],
 "metadata": {
  "kernelspec": {
   "display_name": "env",
   "language": "python",
   "name": "python3"
  },
  "language_info": {
   "codemirror_mode": {
    "name": "ipython",
    "version": 3
   },
   "file_extension": ".py",
   "mimetype": "text/x-python",
   "name": "python",
   "nbconvert_exporter": "python",
   "pygments_lexer": "ipython3",
   "version": "3.9.12"
  }
 },
 "nbformat": 4,
 "nbformat_minor": 2
}
